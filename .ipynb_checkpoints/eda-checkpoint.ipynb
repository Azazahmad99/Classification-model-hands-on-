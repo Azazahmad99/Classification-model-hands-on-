{
 "cells": [
  {
   "cell_type": "code",
   "execution_count": 1,
   "id": "6c537101-d58a-466c-95e9-be82fe738bfc",
   "metadata": {},
   "outputs": [],
   "source": [
    "import pandas as pd\n",
    "import numpy as np\n",
    "import matplotlib.pyplot as plt\n",
    "import seaborn as sns\n",
    "import warnings\n",
    "warnings.filterwarnings('ignore')"
   ]
  },
  {
   "cell_type": "markdown",
   "id": "24c2d180-8ac3-47de-8398-cf3a690b65c0",
   "metadata": {},
   "source": [
    "### Data Overview\n",
    "Here we load the historic dataset and display the first few rows to understand its structure and attributes."
   ]
  },
  {
   "cell_type": "code",
   "execution_count": 2,
   "id": "28f7d05c-b20b-41cb-ad59-28915c81af1b",
   "metadata": {},
   "outputs": [],
   "source": [
    "historic_data = pd.read_csv(r\"DSW_ML_Test/historic.csv\")"
   ]
  },
  {
   "cell_type": "code",
   "execution_count": 3,
   "id": "7b1cf7a0-d474-4366-95ff-57971cbd1161",
   "metadata": {},
   "outputs": [
    {
     "data": {
      "text/html": [
       "<div>\n",
       "<style scoped>\n",
       "    .dataframe tbody tr th:only-of-type {\n",
       "        vertical-align: middle;\n",
       "    }\n",
       "\n",
       "    .dataframe tbody tr th {\n",
       "        vertical-align: top;\n",
       "    }\n",
       "\n",
       "    .dataframe thead th {\n",
       "        text-align: right;\n",
       "    }\n",
       "</style>\n",
       "<table border=\"1\" class=\"dataframe\">\n",
       "  <thead>\n",
       "    <tr style=\"text-align: right;\">\n",
       "      <th></th>\n",
       "      <th>item_no</th>\n",
       "      <th>category</th>\n",
       "      <th>main_promotion</th>\n",
       "      <th>color</th>\n",
       "      <th>stars</th>\n",
       "      <th>success_indicator</th>\n",
       "    </tr>\n",
       "  </thead>\n",
       "  <tbody>\n",
       "    <tr>\n",
       "      <th>0</th>\n",
       "      <td>739157</td>\n",
       "      <td>Tunic</td>\n",
       "      <td>Catalog</td>\n",
       "      <td>Green</td>\n",
       "      <td>3.1</td>\n",
       "      <td>flop</td>\n",
       "    </tr>\n",
       "    <tr>\n",
       "      <th>1</th>\n",
       "      <td>591846</td>\n",
       "      <td>Hoodie</td>\n",
       "      <td>Category_Highlight</td>\n",
       "      <td>Red</td>\n",
       "      <td>1.5</td>\n",
       "      <td>flop</td>\n",
       "    </tr>\n",
       "    <tr>\n",
       "      <th>2</th>\n",
       "      <td>337574</td>\n",
       "      <td>Sweatshirt</td>\n",
       "      <td>Catalog</td>\n",
       "      <td>Red</td>\n",
       "      <td>4.4</td>\n",
       "      <td>top</td>\n",
       "    </tr>\n",
       "    <tr>\n",
       "      <th>3</th>\n",
       "      <td>401933</td>\n",
       "      <td>Polo-Shirt</td>\n",
       "      <td>Category_Highlight</td>\n",
       "      <td>Blue</td>\n",
       "      <td>3.1</td>\n",
       "      <td>flop</td>\n",
       "    </tr>\n",
       "    <tr>\n",
       "      <th>4</th>\n",
       "      <td>812151</td>\n",
       "      <td>Hoodie</td>\n",
       "      <td>Category_Highlight</td>\n",
       "      <td>Green</td>\n",
       "      <td>4.1</td>\n",
       "      <td>top</td>\n",
       "    </tr>\n",
       "  </tbody>\n",
       "</table>\n",
       "</div>"
      ],
      "text/plain": [
       "   item_no    category      main_promotion  color  stars success_indicator\n",
       "0   739157       Tunic             Catalog  Green    3.1              flop\n",
       "1   591846      Hoodie  Category_Highlight    Red    1.5              flop\n",
       "2   337574  Sweatshirt             Catalog    Red    4.4               top\n",
       "3   401933  Polo-Shirt  Category_Highlight   Blue    3.1              flop\n",
       "4   812151      Hoodie  Category_Highlight  Green    4.1               top"
      ]
     },
     "execution_count": 3,
     "metadata": {},
     "output_type": "execute_result"
    }
   ],
   "source": [
    "historic_data.head()"
   ]
  },
  {
   "cell_type": "code",
   "execution_count": 4,
   "id": "619570a9-fa14-43e6-8f06-9339b3da6ae5",
   "metadata": {},
   "outputs": [
    {
     "name": "stdout",
     "output_type": "stream",
     "text": [
      "<class 'pandas.core.frame.DataFrame'>\n",
      "RangeIndex: 8000 entries, 0 to 7999\n",
      "Data columns (total 6 columns):\n",
      " #   Column             Non-Null Count  Dtype  \n",
      "---  ------             --------------  -----  \n",
      " 0   item_no            8000 non-null   int64  \n",
      " 1   category           8000 non-null   object \n",
      " 2   main_promotion     8000 non-null   object \n",
      " 3   color              8000 non-null   object \n",
      " 4   stars              8000 non-null   float64\n",
      " 5   success_indicator  8000 non-null   object \n",
      "dtypes: float64(1), int64(1), object(4)\n",
      "memory usage: 375.1+ KB\n"
     ]
    }
   ],
   "source": [
    "historic_data.info()"
   ]
  },
  {
   "cell_type": "markdown",
   "id": "08761bac-9474-44a7-848b-4056b2431b0b",
   "metadata": {},
   "source": [
    "The dataset is complete, with no missing values across any of the 8000 entries.\n",
    "The stars column is the only one containing numerical data (float values), which can be used for performance or popularity analysis.\n",
    "The success_indicator column is a categorical variable that can help identify which items are successful (\"top\") and which are not (\"flop\")."
   ]
  },
  {
   "cell_type": "code",
   "execution_count": 5,
   "id": "22798af1-ba38-4948-95c7-2a3ee21ab172",
   "metadata": {},
   "outputs": [
    {
     "data": {
      "text/html": [
       "<div>\n",
       "<style scoped>\n",
       "    .dataframe tbody tr th:only-of-type {\n",
       "        vertical-align: middle;\n",
       "    }\n",
       "\n",
       "    .dataframe tbody tr th {\n",
       "        vertical-align: top;\n",
       "    }\n",
       "\n",
       "    .dataframe thead th {\n",
       "        text-align: right;\n",
       "    }\n",
       "</style>\n",
       "<table border=\"1\" class=\"dataframe\">\n",
       "  <thead>\n",
       "    <tr style=\"text-align: right;\">\n",
       "      <th></th>\n",
       "      <th>item_no</th>\n",
       "      <th>category</th>\n",
       "      <th>main_promotion</th>\n",
       "      <th>color</th>\n",
       "      <th>stars</th>\n",
       "      <th>success_indicator</th>\n",
       "    </tr>\n",
       "  </thead>\n",
       "  <tbody>\n",
       "    <tr>\n",
       "      <th>count</th>\n",
       "      <td>8000.000000</td>\n",
       "      <td>8000</td>\n",
       "      <td>8000</td>\n",
       "      <td>8000</td>\n",
       "      <td>8000.000000</td>\n",
       "      <td>8000</td>\n",
       "    </tr>\n",
       "    <tr>\n",
       "      <th>unique</th>\n",
       "      <td>NaN</td>\n",
       "      <td>6</td>\n",
       "      <td>4</td>\n",
       "      <td>10</td>\n",
       "      <td>NaN</td>\n",
       "      <td>2</td>\n",
       "    </tr>\n",
       "    <tr>\n",
       "      <th>top</th>\n",
       "      <td>NaN</td>\n",
       "      <td>Tunic</td>\n",
       "      <td>Category_Highlight</td>\n",
       "      <td>Multi-Color</td>\n",
       "      <td>NaN</td>\n",
       "      <td>top</td>\n",
       "    </tr>\n",
       "    <tr>\n",
       "      <th>freq</th>\n",
       "      <td>NaN</td>\n",
       "      <td>1650</td>\n",
       "      <td>2432</td>\n",
       "      <td>1443</td>\n",
       "      <td>NaN</td>\n",
       "      <td>5185</td>\n",
       "    </tr>\n",
       "    <tr>\n",
       "      <th>mean</th>\n",
       "      <td>546474.338375</td>\n",
       "      <td>NaN</td>\n",
       "      <td>NaN</td>\n",
       "      <td>NaN</td>\n",
       "      <td>3.473075</td>\n",
       "      <td>NaN</td>\n",
       "    </tr>\n",
       "    <tr>\n",
       "      <th>std</th>\n",
       "      <td>256513.463874</td>\n",
       "      <td>NaN</td>\n",
       "      <td>NaN</td>\n",
       "      <td>NaN</td>\n",
       "      <td>0.978810</td>\n",
       "      <td>NaN</td>\n",
       "    </tr>\n",
       "    <tr>\n",
       "      <th>min</th>\n",
       "      <td>100171.000000</td>\n",
       "      <td>NaN</td>\n",
       "      <td>NaN</td>\n",
       "      <td>NaN</td>\n",
       "      <td>0.300000</td>\n",
       "      <td>NaN</td>\n",
       "    </tr>\n",
       "    <tr>\n",
       "      <th>25%</th>\n",
       "      <td>325001.500000</td>\n",
       "      <td>NaN</td>\n",
       "      <td>NaN</td>\n",
       "      <td>NaN</td>\n",
       "      <td>2.800000</td>\n",
       "      <td>NaN</td>\n",
       "    </tr>\n",
       "    <tr>\n",
       "      <th>50%</th>\n",
       "      <td>547081.000000</td>\n",
       "      <td>NaN</td>\n",
       "      <td>NaN</td>\n",
       "      <td>NaN</td>\n",
       "      <td>3.500000</td>\n",
       "      <td>NaN</td>\n",
       "    </tr>\n",
       "    <tr>\n",
       "      <th>75%</th>\n",
       "      <td>764312.250000</td>\n",
       "      <td>NaN</td>\n",
       "      <td>NaN</td>\n",
       "      <td>NaN</td>\n",
       "      <td>4.200000</td>\n",
       "      <td>NaN</td>\n",
       "    </tr>\n",
       "    <tr>\n",
       "      <th>max</th>\n",
       "      <td>989740.000000</td>\n",
       "      <td>NaN</td>\n",
       "      <td>NaN</td>\n",
       "      <td>NaN</td>\n",
       "      <td>6.100000</td>\n",
       "      <td>NaN</td>\n",
       "    </tr>\n",
       "  </tbody>\n",
       "</table>\n",
       "</div>"
      ],
      "text/plain": [
       "              item_no category      main_promotion        color        stars  \\\n",
       "count     8000.000000     8000                8000         8000  8000.000000   \n",
       "unique            NaN        6                   4           10          NaN   \n",
       "top               NaN    Tunic  Category_Highlight  Multi-Color          NaN   \n",
       "freq              NaN     1650                2432         1443          NaN   \n",
       "mean    546474.338375      NaN                 NaN          NaN     3.473075   \n",
       "std     256513.463874      NaN                 NaN          NaN     0.978810   \n",
       "min     100171.000000      NaN                 NaN          NaN     0.300000   \n",
       "25%     325001.500000      NaN                 NaN          NaN     2.800000   \n",
       "50%     547081.000000      NaN                 NaN          NaN     3.500000   \n",
       "75%     764312.250000      NaN                 NaN          NaN     4.200000   \n",
       "max     989740.000000      NaN                 NaN          NaN     6.100000   \n",
       "\n",
       "       success_indicator  \n",
       "count               8000  \n",
       "unique                 2  \n",
       "top                  top  \n",
       "freq                5185  \n",
       "mean                 NaN  \n",
       "std                  NaN  \n",
       "min                  NaN  \n",
       "25%                  NaN  \n",
       "50%                  NaN  \n",
       "75%                  NaN  \n",
       "max                  NaN  "
      ]
     },
     "execution_count": 5,
     "metadata": {},
     "output_type": "execute_result"
    }
   ],
   "source": [
    "# Summary statistics of the dataset\n",
    "historic_data.describe(include='all')"
   ]
  },
  {
   "cell_type": "markdown",
   "id": "80558d3b-a26a-4331-a642-4e5b340ee4a9",
   "metadata": {},
   "source": [
    "Item Count: There are 8,000 total items in the dataset.\n",
    "\n",
    "Category: There are 6 unique categories, with \"Tunic\" being the most frequent (1,650 occurrences).\n",
    "\n",
    "Main Promotion: There are 4 unique promotions, with \"Category_Highlight\" being the most common (2,432 occurrences).\n",
    "\n",
    "Color: There are 10 unique color options, with a variety of color distributions.\n",
    "\n",
    "Stars (Ratings): Ratings range from a minimum of 0.3 to a maximum of 6.1, with an average rating of approximately 3.47. The standard deviation of 0.98 indicates variability in ratings. The median rating (50th percentile) is 3.5, suggesting that half of the items have ratings below this value.\n",
    "\n",
    "Success Indicator: There are 2 unique values, with a frequency of 5,185 for the most common value, indicating that a large majority of items fall into one category of success.\n",
    "\n",
    "Descriptive Statistics:\n",
    "\n",
    "Mean Price: The average price of items is approximately 546,474.\n",
    "\n",
    "Price Range: Prices range from 100,171 (minimum) to 989,740 (maximum).\n",
    "\n",
    "\n",
    "Quartiles:\n",
    "\n",
    "25% of items are priced at or below 325,001.5.\n",
    "\n",
    "50% (median) are priced at or below 547,081.\n",
    "\n",
    "75% are priced at or below 764,312.25, indicating that prices are skewed toward higher values."
   ]
  },
  {
   "cell_type": "code",
   "execution_count": 6,
   "id": "56c6b225-a6ed-48d3-98eb-d6528023d7e5",
   "metadata": {},
   "outputs": [
    {
     "data": {
      "text/plain": [
       "Series([], dtype: int64)"
      ]
     },
     "execution_count": 6,
     "metadata": {},
     "output_type": "execute_result"
    }
   ],
   "source": [
    "# missing values \n",
    "# Check for missing values\n",
    "missing_values = historic_data.isnull().sum()\n",
    "missing_values[missing_values > 0]"
   ]
  },
  {
   "cell_type": "code",
   "execution_count": 7,
   "id": "24e0c16e-896d-4949-8313-ccfdd2fb8de2",
   "metadata": {},
   "outputs": [
    {
     "data": {
      "text/plain": [
       "item_no              0\n",
       "category             0\n",
       "main_promotion       0\n",
       "color                0\n",
       "stars                0\n",
       "success_indicator    0\n",
       "dtype: int64"
      ]
     },
     "execution_count": 7,
     "metadata": {},
     "output_type": "execute_result"
    }
   ],
   "source": [
    "historic_data.isnull().sum()"
   ]
  },
  {
   "cell_type": "markdown",
   "id": "9c8a8631-3595-4bb9-ae43-29f23bc7eb88",
   "metadata": {},
   "source": [
    "there is no missing values in the historic dataset"
   ]
  },
  {
   "cell_type": "code",
   "execution_count": 8,
   "id": "0b2bcc97-abf5-46c7-8abb-77d01fcf79aa",
   "metadata": {},
   "outputs": [
    {
     "data": {
      "image/png": "[encoded data removed]",
      "text/plain": [
       "<Figure size 800x500 with 1 Axes>"
      ]
     },
     "metadata": {},
     "output_type": "display_data"
    }
   ],
   "source": [
    "# distribution of success indicator\n",
    "# Distribution of success_indicator\n",
    "plt.figure(figsize=(8, 5))\n",
    "sns.countplot(x='success_indicator', data=historic_data)\n",
    "plt.title('Distribution of Success Indicator')\n",
    "plt.xlabel('Success Indicator')\n",
    "plt.ylabel('Count')\n",
    "plt.show()"
   ]
  },
  {
   "cell_type": "markdown",
   "id": "cdc56050-b069-41f7-8b40-7c1addef74fa",
   "metadata": {},
   "source": [
    "\"top\" category is significantly more common than the \"flop\" category, suggesting that the majority of instances fall under the \"top\" success indicator."
   ]
  },
  {
   "cell_type": "code",
   "execution_count": 9,
   "id": "5c45fd99-1829-4831-8807-f4c117074378",
   "metadata": {},
   "outputs": [
    {
     "data": {
      "image/png": "[encoded data removed]",
      "text/plain": [
       "<Figure size 1200x600 with 1 Axes>"
      ]
     },
     "metadata": {},
     "output_type": "display_data"
    }
   ],
   "source": [
    "# categorical variable analysis\n",
    "# Success indicator by category\n",
    "plt.figure(figsize=(12, 6))\n",
    "sns.countplot(data=historic_data, x='category', hue='success_indicator')\n",
    "plt.title('Success Indicator by Category')\n",
    "plt.xlabel('Category')\n",
    "plt.ylabel('Count')\n",
    "plt.xticks(rotation=45)\n",
    "plt.legend(title='Success Indicator')\n",
    "plt.show()"
   ]
  },
  {
   "cell_type": "markdown",
   "id": "3b07305b-c512-4ccf-8757-980575d3c836",
   "metadata": {},
   "source": [
    "### Category-wise Success Indicator\n",
    "- T-Shirt and Tunic categories perform exceptionally well, with a dominant \"top\" success indicator.\n",
    "- Polo-Shirt has a relatively higher \"flop\" count compared to its \"top\" count, indicating underperformance in this category.\n",
    "- Overall, most categories have a larger \"top\" success indicator, showing strong performance across clothing categories, except for Polo-Shirts, which needs attention."
   ]
  },
  {
   "cell_type": "code",
   "execution_count": 10,
   "id": "7b050b6c-a01a-41d1-a0a1-bfa985aa6fa3",
   "metadata": {},
   "outputs": [
    {
     "data": {
      "image/png": "[encoded data removed]",
      "text/plain": [
       "<Figure size 1200x600 with 1 Axes>"
      ]
     },
     "metadata": {},
     "output_type": "display_data"
    }
   ],
   "source": [
    "# Success indicator by main promotion\n",
    "plt.figure(figsize=(12, 6))\n",
    "sns.countplot(data=historic_data, x='main_promotion', hue='success_indicator',color=\"Red\")\n",
    "plt.title('Success Indicator by Main Promotion')\n",
    "plt.xlabel('Main Promotion')\n",
    "plt.ylabel('Count')\n",
    "plt.xticks(rotation=45)\n",
    "plt.legend(title='Success Indicator')\n",
    "plt.show()"
   ]
  },
  {
   "cell_type": "markdown",
   "id": "a468379a-8431-40d6-8aa4-396f2ae98d4f",
   "metadata": {},
   "source": [
    "### Main Promotion Analysis\n",
    "- Category Highlight and Frontpage Header are the most successful promotions, with a significantly higher proportion of top-performing products.\n",
    "- Display Ad Campaign has the fewest failures but also a smaller number of top successes compared to other promotions.\n",
    "- Catalog shows a more balanced outcome, with nearly equal success and failure rates, making it a less reliable option for driving high product success.\n",
    "\n",
    "Overall, focusing on Category Highlight and Frontpage Header promotions seems to drive the best results."
   ]
  },
  {
   "cell_type": "code",
   "execution_count": 11,
   "id": "cc610c8d-f577-4b00-b9fe-1dd631cca636",
   "metadata": {},
   "outputs": [
    {
     "data": {
      "image/png": "[encoded data removed]",
      "text/plain": [
       "<Figure size 800x500 with 1 Axes>"
      ]
     },
     "metadata": {},
     "output_type": "display_data"
    }
   ],
   "source": [
    "# Boxplot for stars vs success indicator\n",
    "plt.figure(figsize=(8, 5))\n",
    "sns.boxplot(x='success_indicator', y='stars', data=historic_data,color=\"skyblue\")\n",
    "plt.title('Stars Rating by Success Indicator')\n",
    "plt.xlabel('Success Indicator')\n",
    "plt.ylabel('Stars Rating')\n",
    "plt.show()"
   ]
  },
  {
   "cell_type": "markdown",
   "id": "faa729ba-24ae-4ca2-a385-6bc20aa9e56a",
   "metadata": {},
   "source": [
    "- The graph illustrates a clear distinction in star ratings based on the Success Indicator.\n",
    "- Top-rated items generally receive higher star ratings than flop-rated items, indicating that promotions or products classified as top performers tend to garner better reviews.\n",
    "- The presence of outliers in both categories suggests variability in customer perceptions, with some flop items surprisingly rated highly and some top items rated significantly lower."
   ]
  },
  {
   "cell_type": "code",
   "execution_count": 12,
   "id": "db8e887e-0d10-4ad8-8594-2f60cd036a5d",
   "metadata": {},
   "outputs": [
    {
     "data": {
      "text/html": [
       "<div>\n",
       "<style scoped>\n",
       "    .dataframe tbody tr th:only-of-type {\n",
       "        vertical-align: middle;\n",
       "    }\n",
       "\n",
       "    .dataframe tbody tr th {\n",
       "        vertical-align: top;\n",
       "    }\n",
       "\n",
       "    .dataframe thead th {\n",
       "        text-align: right;\n",
       "    }\n",
       "</style>\n",
       "<table border=\"1\" class=\"dataframe\">\n",
       "  <thead>\n",
       "    <tr style=\"text-align: right;\">\n",
       "      <th></th>\n",
       "      <th>stars</th>\n",
       "    </tr>\n",
       "  </thead>\n",
       "  <tbody>\n",
       "    <tr>\n",
       "      <th>count</th>\n",
       "      <td>8000.000000</td>\n",
       "    </tr>\n",
       "    <tr>\n",
       "      <th>mean</th>\n",
       "      <td>3.473075</td>\n",
       "    </tr>\n",
       "    <tr>\n",
       "      <th>std</th>\n",
       "      <td>0.978810</td>\n",
       "    </tr>\n",
       "    <tr>\n",
       "      <th>min</th>\n",
       "      <td>0.300000</td>\n",
       "    </tr>\n",
       "    <tr>\n",
       "      <th>25%</th>\n",
       "      <td>2.800000</td>\n",
       "    </tr>\n",
       "    <tr>\n",
       "      <th>50%</th>\n",
       "      <td>3.500000</td>\n",
       "    </tr>\n",
       "    <tr>\n",
       "      <th>75%</th>\n",
       "      <td>4.200000</td>\n",
       "    </tr>\n",
       "    <tr>\n",
       "      <th>max</th>\n",
       "      <td>6.100000</td>\n",
       "    </tr>\n",
       "  </tbody>\n",
       "</table>\n",
       "</div>"
      ],
      "text/plain": [
       "             stars\n",
       "count  8000.000000\n",
       "mean      3.473075\n",
       "std       0.978810\n",
       "min       0.300000\n",
       "25%       2.800000\n",
       "50%       3.500000\n",
       "75%       4.200000\n",
       "max       6.100000"
      ]
     },
     "execution_count": 12,
     "metadata": {},
     "output_type": "execute_result"
    }
   ],
   "source": [
    "historic_data[['stars']].describe(include='all')"
   ]
  },
  {
   "cell_type": "code",
   "execution_count": 13,
   "id": "9d7afc52-6f82-4203-aedc-ff3c25e97d63",
   "metadata": {},
   "outputs": [
    {
     "data": {
      "text/html": [
       "<div>\n",
       "<style scoped>\n",
       "    .dataframe tbody tr th:only-of-type {\n",
       "        vertical-align: middle;\n",
       "    }\n",
       "\n",
       "    .dataframe tbody tr th {\n",
       "        vertical-align: top;\n",
       "    }\n",
       "\n",
       "    .dataframe thead th {\n",
       "        text-align: right;\n",
       "    }\n",
       "</style>\n",
       "<table border=\"1\" class=\"dataframe\">\n",
       "  <thead>\n",
       "    <tr style=\"text-align: right;\">\n",
       "      <th></th>\n",
       "      <th>item_no</th>\n",
       "      <th>category</th>\n",
       "      <th>main_promotion</th>\n",
       "      <th>color</th>\n",
       "      <th>stars</th>\n",
       "      <th>success_indicator</th>\n",
       "    </tr>\n",
       "  </thead>\n",
       "  <tbody>\n",
       "    <tr>\n",
       "      <th>11</th>\n",
       "      <td>405726</td>\n",
       "      <td>Hoodie</td>\n",
       "      <td>Category_Highlight</td>\n",
       "      <td>White</td>\n",
       "      <td>5.5</td>\n",
       "      <td>top</td>\n",
       "    </tr>\n",
       "    <tr>\n",
       "      <th>58</th>\n",
       "      <td>301758</td>\n",
       "      <td>T-Shirt</td>\n",
       "      <td>Category_Highlight</td>\n",
       "      <td>Yellow</td>\n",
       "      <td>5.4</td>\n",
       "      <td>top</td>\n",
       "    </tr>\n",
       "    <tr>\n",
       "      <th>78</th>\n",
       "      <td>566361</td>\n",
       "      <td>Blouse</td>\n",
       "      <td>Category_Highlight</td>\n",
       "      <td>Green</td>\n",
       "      <td>5.4</td>\n",
       "      <td>top</td>\n",
       "    </tr>\n",
       "    <tr>\n",
       "      <th>113</th>\n",
       "      <td>640808</td>\n",
       "      <td>Tunic</td>\n",
       "      <td>Category_Highlight</td>\n",
       "      <td>Black</td>\n",
       "      <td>5.2</td>\n",
       "      <td>top</td>\n",
       "    </tr>\n",
       "    <tr>\n",
       "      <th>119</th>\n",
       "      <td>198091</td>\n",
       "      <td>Tunic</td>\n",
       "      <td>Category_Highlight</td>\n",
       "      <td>Blue</td>\n",
       "      <td>5.2</td>\n",
       "      <td>top</td>\n",
       "    </tr>\n",
       "    <tr>\n",
       "      <th>...</th>\n",
       "      <td>...</td>\n",
       "      <td>...</td>\n",
       "      <td>...</td>\n",
       "      <td>...</td>\n",
       "      <td>...</td>\n",
       "      <td>...</td>\n",
       "    </tr>\n",
       "    <tr>\n",
       "      <th>7899</th>\n",
       "      <td>680997</td>\n",
       "      <td>Hoodie</td>\n",
       "      <td>Display_Ad_Campaign</td>\n",
       "      <td>Yellow</td>\n",
       "      <td>5.1</td>\n",
       "      <td>flop</td>\n",
       "    </tr>\n",
       "    <tr>\n",
       "      <th>7918</th>\n",
       "      <td>727551</td>\n",
       "      <td>T-Shirt</td>\n",
       "      <td>Frontpage_Header</td>\n",
       "      <td>Multi-Color</td>\n",
       "      <td>5.4</td>\n",
       "      <td>top</td>\n",
       "    </tr>\n",
       "    <tr>\n",
       "      <th>7934</th>\n",
       "      <td>574620</td>\n",
       "      <td>Blouse</td>\n",
       "      <td>Display_Ad_Campaign</td>\n",
       "      <td>Green</td>\n",
       "      <td>5.3</td>\n",
       "      <td>top</td>\n",
       "    </tr>\n",
       "    <tr>\n",
       "      <th>7937</th>\n",
       "      <td>522999</td>\n",
       "      <td>Blouse</td>\n",
       "      <td>Frontpage_Header</td>\n",
       "      <td>Black</td>\n",
       "      <td>5.4</td>\n",
       "      <td>top</td>\n",
       "    </tr>\n",
       "    <tr>\n",
       "      <th>7955</th>\n",
       "      <td>389447</td>\n",
       "      <td>T-Shirt</td>\n",
       "      <td>Frontpage_Header</td>\n",
       "      <td>Multi-Color</td>\n",
       "      <td>5.1</td>\n",
       "      <td>top</td>\n",
       "    </tr>\n",
       "  </tbody>\n",
       "</table>\n",
       "<p>387 rows × 6 columns</p>\n",
       "</div>"
      ],
      "text/plain": [
       "      item_no category       main_promotion        color  stars  \\\n",
       "11     405726   Hoodie   Category_Highlight        White    5.5   \n",
       "58     301758  T-Shirt   Category_Highlight       Yellow    5.4   \n",
       "78     566361   Blouse   Category_Highlight        Green    5.4   \n",
       "113    640808    Tunic   Category_Highlight        Black    5.2   \n",
       "119    198091    Tunic   Category_Highlight         Blue    5.2   \n",
       "...       ...      ...                  ...          ...    ...   \n",
       "7899   680997   Hoodie  Display_Ad_Campaign       Yellow    5.1   \n",
       "7918   727551  T-Shirt     Frontpage_Header  Multi-Color    5.4   \n",
       "7934   574620   Blouse  Display_Ad_Campaign        Green    5.3   \n",
       "7937   522999   Blouse     Frontpage_Header        Black    5.4   \n",
       "7955   389447  T-Shirt     Frontpage_Header  Multi-Color    5.1   \n",
       "\n",
       "     success_indicator  \n",
       "11                 top  \n",
       "58                 top  \n",
       "78                 top  \n",
       "113                top  \n",
       "119                top  \n",
       "...                ...  \n",
       "7899              flop  \n",
       "7918               top  \n",
       "7934               top  \n",
       "7937               top  \n",
       "7955               top  \n",
       "\n",
       "[387 rows x 6 columns]"
      ]
     },
     "execution_count": 13,
     "metadata": {},
     "output_type": "execute_result"
    }
   ],
   "source": [
    "historic_data[historic_data['stars']>5]"
   ]
  },
  {
   "cell_type": "markdown",
   "id": "6348f167-30aa-4b83-8baa-30bcec1bfd89",
   "metadata": {},
   "source": [
    "387 products star rating greater than 5 is considered an outlier. Such ratings exceed the maximum limit set for the evaluation and indicate potential anomalies in the data collection or rating process."
   ]
  }
 ],
 "metadata": {
  "kernelspec": {
   "display_name": "my-conda-env-kernel",
   "language": "python",
   "name": "my-conda-env-kernel"
  },
  "language_info": {
   "codemirror_mode": {
    "name": "ipython",
    "version": 3
   },
   "file_extension": ".py",
   "mimetype": "text/x-python",
   "name": "python",
   "nbconvert_exporter": "python",
   "pygments_lexer": "ipython3",
   "version": "3.12.5"
  }
 },
 "nbformat": 4,
 "nbformat_minor": 5
}
